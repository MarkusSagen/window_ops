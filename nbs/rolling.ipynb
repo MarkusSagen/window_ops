{
 "cells": [
  {
   "cell_type": "code",
   "execution_count": null,
   "metadata": {},
   "outputs": [],
   "source": [
    "# default_exp rolling"
   ]
  },
  {
   "cell_type": "markdown",
   "metadata": {},
   "source": [
    "# Rolling\n",
    "\n",
    "> Rolling window operations"
   ]
  },
  {
   "cell_type": "code",
   "execution_count": null,
   "metadata": {},
   "outputs": [],
   "source": [
    "#hide\n",
    "import random\n",
    "\n",
    "from nbdev.showdoc import *"
   ]
  },
  {
   "cell_type": "code",
   "execution_count": null,
   "metadata": {},
   "outputs": [],
   "source": [
    "#export\n",
    "from math import sqrt\n",
    "from typing import Callable, Optional\n",
    "\n",
    "import numpy as np\n",
    "import pandas as pd\n",
    "from numba import njit"
   ]
  },
  {
   "cell_type": "code",
   "execution_count": null,
   "metadata": {},
   "outputs": [],
   "source": [
    "#export\n",
    "@njit\n",
    "def rolling_mean(x: np.ndarray,\n",
    "                 window_size: int,\n",
    "                 min_samples: Optional[int] = None) -> np.ndarray:\n",
    "    if min_samples is None:\n",
    "        min_samples = window_size\n",
    "    n_samples = x.size\n",
    "    out = np.full(n_samples, np.nan, dtype=np.float32)\n",
    "    accum = 0.\n",
    "    for i in range(min_samples - 1):\n",
    "        accum += x[i]\n",
    "    for i in range(min_samples - 1, window_size):\n",
    "        accum += x[i]\n",
    "        out[i] = accum / (i+1)\n",
    "    for i in range(window_size, n_samples):\n",
    "        accum += x[i] - x[i - window_size]\n",
    "        out[i] = accum / window_size\n",
    "    return out"
   ]
  },
  {
   "cell_type": "code",
   "execution_count": null,
   "metadata": {},
   "outputs": [],
   "source": [
    "y = np.random.rand(100)\n",
    "ys = pd.Series(y)\n",
    "\n",
    "window_size = random.randint(2, 10)\n",
    "min_samples = random.randint(2, window_size - 1)\n",
    "\n",
    "assert np.allclose(rolling_mean(y, window_size, min_samples=1), \n",
    "                   ys.rolling(window_size, min_periods=1).mean().values)\n",
    "\n",
    "assert np.allclose(rolling_mean(y, window_size, min_samples=min_samples), \n",
    "                   ys.rolling(window_size, min_periods=min_samples).mean().values,\n",
    "                   equal_nan=True)\n",
    "\n",
    "assert np.allclose(rolling_mean(y, window_size), \n",
    "                   ys.rolling(window_size).mean().values, \n",
    "                   equal_nan=True)"
   ]
  },
  {
   "cell_type": "code",
   "execution_count": null,
   "metadata": {},
   "outputs": [],
   "source": [
    "#export\n",
    "@njit\n",
    "def rolling_std(x: np.ndarray, \n",
    "                window_size: int,\n",
    "                min_samples: Optional[int] = None) -> np.ndarray:\n",
    "    if min_samples is None:\n",
    "        min_samples = window_size\n",
    "    if min_samples < 2:\n",
    "        raise ValueError('min_samples must be greater than 1')\n",
    "    n_samples = x.size\n",
    "    out = np.full(n_samples, np.nan, dtype=np.float32)    \n",
    "    rolling_means = rolling_mean(x, window_size, min_samples)\n",
    "    accum_xsq = 0.\n",
    "    for i in range(min_samples - 1):\n",
    "        accum_xsq += x[i]**2\n",
    "    for i in range(min_samples - 1, window_size):\n",
    "        accum_xsq += x[i]**2\n",
    "        if i > 0:\n",
    "            out[i] = sqrt((accum_xsq - (i+1) * rolling_means[i]**2) / i)\n",
    "    out[0] = np.nan\n",
    "    for i in range(window_size, n_samples):\n",
    "        accum_xsq += x[i]**2 - x[i-window_size]**2\n",
    "        out[i] = sqrt((accum_xsq - window_size * rolling_means[i]**2) / (window_size-1))\n",
    "    return out"
   ]
  },
  {
   "cell_type": "code",
   "execution_count": null,
   "metadata": {},
   "outputs": [],
   "source": [
    "y = np.random.rand(100)\n",
    "ys = pd.Series(y)\n",
    "\n",
    "window_size = random.randint(2, 10)\n",
    "min_samples = random.randint(3, window_size - 1)\n",
    "\n",
    "assert np.allclose(rolling_std(y, window_size, min_samples=2), \n",
    "                   ys.rolling(window_size, min_periods=2).std().values,\n",
    "                   equal_nan=True)\n",
    "\n",
    "assert np.allclose(rolling_std(y, window_size, min_samples=min_samples), \n",
    "                   ys.rolling(window_size, min_periods=min_samples).std().values,\n",
    "                   equal_nan=True)\n",
    "\n",
    "assert np.allclose(rolling_std(y, window_size), \n",
    "                   ys.rolling(window_size).std().values,\n",
    "                   equal_nan=True)"
   ]
  },
  {
   "cell_type": "code",
   "execution_count": null,
   "metadata": {},
   "outputs": [],
   "source": [
    "#exporti\n",
    "@njit \n",
    "def _rolling_comp(comp: Callable,\n",
    "                  x: np.ndarray, \n",
    "                  window_size: int,\n",
    "                  min_samples: Optional[int] = None):\n",
    "    if min_samples is None:\n",
    "        min_samples = window_size    \n",
    "    n_samples = x.size   \n",
    "    out = np.full(n_samples, np.nan, dtype=np.float32)  \n",
    "    for i in range(min_samples - 1, n_samples):\n",
    "        pivot = x[i]\n",
    "        ws = min(i+1, window_size)\n",
    "        for j in range(1, ws):\n",
    "            if comp(x[i - j], pivot):\n",
    "                pivot = x[i - j]\n",
    "        out[i] = pivot\n",
    "    return out\n",
    "\n",
    "@njit\n",
    "def _gt(x: float, y: float) -> bool:\n",
    "    return x > y\n",
    "\n",
    "@njit\n",
    "def _lt(x: float, y: float) -> bool:\n",
    "    return ~_gt(x, y)"
   ]
  },
  {
   "cell_type": "code",
   "execution_count": null,
   "metadata": {},
   "outputs": [],
   "source": [
    "#export\n",
    "def rolling_max(x: np.ndarray,\n",
    "                window_size: int,\n",
    "                min_samples: Optional[int] = None):\n",
    "    return _rolling_comp(_gt, x, window_size, min_samples)"
   ]
  },
  {
   "cell_type": "code",
   "execution_count": null,
   "metadata": {},
   "outputs": [],
   "source": [
    "y = np.random.rand(100)\n",
    "ys = pd.Series(y)\n",
    "\n",
    "window_size = random.randint(2, 10)\n",
    "min_samples = random.randint(2, window_size - 1)\n",
    "\n",
    "assert np.allclose(rolling_max(y, window_size, min_samples=1), \n",
    "                   ys.rolling(window_size, min_periods=1).max().values)\n",
    "\n",
    "assert np.allclose(rolling_max(y, window_size, min_samples=min_samples), \n",
    "                   ys.rolling(window_size, min_periods=min_samples).max().values,\n",
    "                   equal_nan=True)\n",
    "\n",
    "assert np.allclose(rolling_max(y, window_size),\n",
    "                   ys.rolling(window_size).max().values,\n",
    "                   equal_nan=True)"
   ]
  },
  {
   "cell_type": "code",
   "execution_count": null,
   "metadata": {},
   "outputs": [],
   "source": [
    "#export\n",
    "def rolling_min(x: np.ndarray,\n",
    "                window_size: int,\n",
    "                min_samples: Optional[int] = None):\n",
    "    return _rolling_comp(_lt, x, window_size, min_samples)"
   ]
  },
  {
   "cell_type": "code",
   "execution_count": null,
   "metadata": {},
   "outputs": [],
   "source": [
    "y = np.random.rand(100)\n",
    "ys = pd.Series(y)\n",
    "\n",
    "window_size = random.randint(2, 10)\n",
    "min_samples = random.randint(2, window_size - 1)\n",
    "\n",
    "assert np.allclose(rolling_min(y, window_size, min_samples=1), \n",
    "                   ys.rolling(window_size, min_periods=1).min().values)\n",
    "\n",
    "assert np.allclose(rolling_min(y, window_size, min_samples=min_samples), \n",
    "                   ys.rolling(window_size, min_periods=min_samples).min().values,\n",
    "                   equal_nan=True)\n",
    "\n",
    "assert np.allclose(rolling_min(y, window_size), \n",
    "                   ys.rolling(window_size).min().values,\n",
    "                   equal_nan=True)"
   ]
  }
 ],
 "metadata": {
  "kernelspec": {
   "display_name": "Python 3",
   "language": "python",
   "name": "python3"
  }
 },
 "nbformat": 4,
 "nbformat_minor": 4
}

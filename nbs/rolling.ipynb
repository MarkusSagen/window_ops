{
 "cells": [
  {
   "cell_type": "code",
   "execution_count": null,
   "metadata": {},
   "outputs": [],
   "source": [
    "# default_exp rolling"
   ]
  },
  {
   "cell_type": "code",
   "execution_count": null,
   "metadata": {},
   "outputs": [],
   "source": [
    "#hide\n",
    "%load_ext autoreload\n",
    "%autoreload 2"
   ]
  },
  {
   "cell_type": "markdown",
   "metadata": {},
   "source": [
    "# Rolling\n",
    "\n",
    "> Rolling window operations"
   ]
  },
  {
   "cell_type": "code",
   "execution_count": null,
   "metadata": {},
   "outputs": [],
   "source": [
    "#hide\n",
    "import random\n",
    "\n",
    "from nbdev.showdoc import *"
   ]
  },
  {
   "cell_type": "code",
   "execution_count": null,
   "metadata": {},
   "outputs": [],
   "source": [
    "#export\n",
    "from math import sqrt\n",
    "from typing import Callable, Optional\n",
    "\n",
    "import numpy as np\n",
    "from numba import njit\n",
    "\n",
    "from window_ops.utils import _gt, _lt, _rolling_std, _validate_rolling_sizes"
   ]
  },
  {
   "cell_type": "code",
   "execution_count": null,
   "metadata": {},
   "outputs": [],
   "source": [
    "import pandas as pd\n",
    "\n",
    "np.random.seed(0)\n",
    "y = np.random.rand(100)\n",
    "ys = pd.Series(y)"
   ]
  },
  {
   "cell_type": "markdown",
   "metadata": {},
   "source": [
    "## Regular"
   ]
  },
  {
   "cell_type": "code",
   "execution_count": null,
   "metadata": {},
   "outputs": [],
   "source": [
    "#export\n",
    "@njit\n",
    "def rolling_mean(x: np.ndarray,\n",
    "                 window_size: int,\n",
    "                 min_samples: Optional[int] = None) -> np.ndarray:\n",
    "    n_samples = x.size\n",
    "    window_size, min_samples = _validate_rolling_sizes(n_samples, window_size, min_samples)\n",
    "    out = np.full(n_samples, np.nan, dtype=np.float32)\n",
    "    accum = 0.\n",
    "    for i in range(window_size):\n",
    "        accum += x[i]\n",
    "        if i + 1 >= min_samples:\n",
    "            out[i] = accum / (i+1)\n",
    "    for i in range(window_size, n_samples):\n",
    "        accum += x[i] - x[i-window_size]\n",
    "        out[i] = accum / window_size\n",
    "    return out"
   ]
  },
  {
   "cell_type": "code",
   "execution_count": null,
   "metadata": {},
   "outputs": [],
   "source": [
    "window_size = random.randint(2, 10)\n",
    "min_samples = random.randint(2, window_size)\n",
    "\n",
    "assert np.allclose(rolling_mean(y, window_size, min_samples=1), \n",
    "                   ys.rolling(window_size, min_periods=1).mean().values)\n",
    "\n",
    "assert np.allclose(rolling_mean(y, window_size, min_samples=min_samples), \n",
    "                   ys.rolling(window_size, min_periods=min_samples).mean().values,\n",
    "                   equal_nan=True)"
   ]
  },
  {
   "cell_type": "code",
   "execution_count": null,
   "metadata": {},
   "outputs": [],
   "source": [
    "#export\n",
    "@njit\n",
    "def rolling_std(x: np.ndarray, \n",
    "                window_size: int,\n",
    "                min_samples: Optional[int] = None) -> np.ndarray:\n",
    "    out, _, _ = _rolling_std(x, window_size, min_samples)\n",
    "    return out"
   ]
  },
  {
   "cell_type": "code",
   "execution_count": null,
   "metadata": {},
   "outputs": [],
   "source": [
    "window_size = random.randint(3, 10)\n",
    "min_samples = random.randint(2, window_size)\n",
    "\n",
    "assert np.allclose(rolling_std(y, window_size, min_samples=2), \n",
    "                   ys.rolling(window_size, min_periods=2).std().values,\n",
    "                   equal_nan=True)\n",
    "\n",
    "assert np.allclose(rolling_std(y, window_size, min_samples=min_samples), \n",
    "                   ys.rolling(window_size, min_periods=min_samples).std().values,\n",
    "                   equal_nan=True)\n",
    "\n",
    "assert np.allclose(rolling_std(y, window_size), \n",
    "                   ys.rolling(window_size).std().values,\n",
    "                   equal_nan=True)"
   ]
  },
  {
   "cell_type": "code",
   "execution_count": null,
   "metadata": {},
   "outputs": [],
   "source": [
    "#exporti\n",
    "@njit \n",
    "def _rolling_comp(comp: Callable,\n",
    "                  x: np.ndarray, \n",
    "                  window_size: int,\n",
    "                  min_samples: Optional[int] = None): \n",
    "    n_samples = x.size   \n",
    "    window_size, min_samples = _validate_rolling_sizes(n_samples, window_size, min_samples)    \n",
    "    out = np.full(n_samples, np.nan, dtype=np.float32)  \n",
    "    for i in range(min_samples - 1, n_samples):\n",
    "        pivot = x[i]\n",
    "        ws = min(i+1, window_size)\n",
    "        for j in range(1, ws):\n",
    "            if comp(x[i - j], pivot) > 0:\n",
    "                pivot = x[i - j]\n",
    "        out[i] = pivot\n",
    "    return out"
   ]
  },
  {
   "cell_type": "code",
   "execution_count": null,
   "metadata": {},
   "outputs": [],
   "source": [
    "#export\n",
    "@njit\n",
    "def rolling_max(x: np.ndarray,\n",
    "                window_size: int,\n",
    "                min_samples: Optional[int] = None):\n",
    "    return _rolling_comp(_gt, x, window_size, min_samples)"
   ]
  },
  {
   "cell_type": "code",
   "execution_count": null,
   "metadata": {},
   "outputs": [],
   "source": [
    "window_size = random.randint(3, 10)\n",
    "min_samples = random.randint(2, window_size)\n",
    "\n",
    "assert np.allclose(rolling_max(y, window_size, min_samples=1), \n",
    "                   ys.rolling(window_size, min_periods=1).max().values)\n",
    "\n",
    "assert np.allclose(rolling_max(y, window_size, min_samples=min_samples), \n",
    "                   ys.rolling(window_size, min_periods=min_samples).max().values,\n",
    "                   equal_nan=True)\n",
    "\n",
    "assert np.allclose(rolling_max(y, window_size),\n",
    "                   ys.rolling(window_size).max().values,\n",
    "                   equal_nan=True)"
   ]
  },
  {
   "cell_type": "code",
   "execution_count": null,
   "metadata": {},
   "outputs": [],
   "source": [
    "#export\n",
    "@njit\n",
    "def rolling_min(x: np.ndarray,\n",
    "                window_size: int,\n",
    "                min_samples: Optional[int] = None):\n",
    "    return _rolling_comp(_lt, x, window_size, min_samples)"
   ]
  },
  {
   "cell_type": "code",
   "execution_count": null,
   "metadata": {},
   "outputs": [],
   "source": [
    "window_size = random.randint(2, 10)\n",
    "min_samples = random.randint(2, window_size)\n",
    "\n",
    "assert np.allclose(rolling_min(y, window_size, min_samples=1), \n",
    "                   ys.rolling(window_size, min_periods=1).min().values)\n",
    "\n",
    "assert np.allclose(rolling_min(y, window_size, min_samples=min_samples), \n",
    "                   ys.rolling(window_size, min_periods=min_samples).min().values,\n",
    "                   equal_nan=True)\n",
    "\n",
    "assert np.allclose(rolling_min(y, window_size), \n",
    "                   ys.rolling(window_size).min().values,\n",
    "                   equal_nan=True)"
   ]
  },
  {
   "cell_type": "markdown",
   "metadata": {},
   "source": [
    "## Seasonal"
   ]
  },
  {
   "cell_type": "code",
   "execution_count": null,
   "metadata": {},
   "outputs": [],
   "source": [
    "#exporti\n",
    "def _seasonal_rolling_op(rolling_op: Callable,\n",
    "                         x: np.ndarray,\n",
    "                         season_length: int,\n",
    "                         window_size: int,\n",
    "                         min_samples: Optional[int] = None) -> np.ndarray: \n",
    "    n_samples = x.size\n",
    "    out = np.full(n_samples, np.nan, dtype=np.float32)\n",
    "    for season in range(season_length):\n",
    "        out[season::season_length] = rolling_op(x[season::season_length], window_size, min_samples)\n",
    "    return out"
   ]
  },
  {
   "cell_type": "code",
   "execution_count": null,
   "metadata": {},
   "outputs": [],
   "source": [
    "#export\n",
    "def seasonal_rolling_mean(x: np.ndarray,\n",
    "                          season_length: int,\n",
    "                          window_size: int,\n",
    "                          min_samples: Optional[int] = None) -> np.ndarray:\n",
    "    return _seasonal_rolling_op(rolling_mean, x, season_length, window_size=window_size, min_samples=min_samples)"
   ]
  },
  {
   "cell_type": "code",
   "execution_count": null,
   "metadata": {},
   "outputs": [],
   "source": [
    "y_df = ys.to_frame('y')\n",
    "y_df['season'] = np.arange(7)[[i % 7 for i in range(y.size)]]\n",
    "grouped_y = y_df.groupby('season')['y']"
   ]
  },
  {
   "cell_type": "code",
   "execution_count": null,
   "metadata": {},
   "outputs": [],
   "source": [
    "window_size = random.randint(2, 8)\n",
    "min_samples = random.randint(1, window_size)\n",
    "\n",
    "assert np.allclose(grouped_y.transform(lambda y: y.rolling(window_size, min_periods=min_samples).mean()).values,\n",
    "                   seasonal_rolling_mean(y, 7, window_size, min_samples),\n",
    "                   equal_nan=True)"
   ]
  },
  {
   "cell_type": "code",
   "execution_count": null,
   "metadata": {},
   "outputs": [],
   "source": [
    "#export\n",
    "def seasonal_rolling_std(x: np.ndarray,\n",
    "                         season_length: int,\n",
    "                         window_size: int,\n",
    "                         min_samples: Optional[int] = None\n",
    "                         ) -> np.ndarray:\n",
    "    return _seasonal_rolling_op(rolling_std, x, season_length, window_size, min_samples)"
   ]
  },
  {
   "cell_type": "code",
   "execution_count": null,
   "metadata": {},
   "outputs": [],
   "source": [
    "window_size = random.randint(4, 8)\n",
    "min_samples = random.randint(2, window_size)\n",
    "\n",
    "assert np.allclose(grouped_y.transform(lambda y: y.rolling(window_size, min_periods=min_samples).std()).values,\n",
    "                   seasonal_rolling_std(y, 7, window_size, min_samples),\n",
    "                   equal_nan=True)"
   ]
  },
  {
   "cell_type": "code",
   "execution_count": null,
   "metadata": {},
   "outputs": [],
   "source": [
    "#export\n",
    "def seasonal_rolling_max(x: np.ndarray,\n",
    "                         season_length: int,\n",
    "                         window_size: int,\n",
    "                         min_samples: Optional[int] = None\n",
    "                         ) -> np.ndarray:\n",
    "    return _seasonal_rolling_op(rolling_max, x, season_length, window_size, min_samples)"
   ]
  },
  {
   "cell_type": "code",
   "execution_count": null,
   "metadata": {},
   "outputs": [],
   "source": [
    "window_size = random.randint(2, 8)\n",
    "min_samples = random.randint(1, window_size)\n",
    "\n",
    "assert np.allclose(grouped_y.transform(lambda y: y.rolling(window_size, min_periods=min_samples).max()).values,\n",
    "                   seasonal_rolling_max(y, 7, window_size, min_samples),\n",
    "                   equal_nan=True)"
   ]
  },
  {
   "cell_type": "code",
   "execution_count": null,
   "metadata": {},
   "outputs": [],
   "source": [
    "#export\n",
    "def seasonal_rolling_min(x: np.ndarray,\n",
    "                         season_length: int,\n",
    "                         window_size: int,\n",
    "                         min_samples: Optional[int] = None\n",
    "                         ) -> np.ndarray:\n",
    "    return _seasonal_rolling_op(rolling_min, x, season_length, window_size, min_samples)"
   ]
  },
  {
   "cell_type": "code",
   "execution_count": null,
   "metadata": {},
   "outputs": [],
   "source": [
    "window_size = random.randint(2, 8)\n",
    "min_samples = random.randint(1, window_size)\n",
    "\n",
    "assert np.allclose(grouped_y.transform(lambda y: y.rolling(window_size, min_periods=min_samples).min()).values,\n",
    "                   seasonal_rolling_min(y, 7, window_size, min_samples),\n",
    "                   equal_nan=True)"
   ]
  }
 ],
 "metadata": {
  "kernelspec": {
   "display_name": "Python 3",
   "language": "python",
   "name": "python3"
  }
 },
 "nbformat": 4,
 "nbformat_minor": 4
}

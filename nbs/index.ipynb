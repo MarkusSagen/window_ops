{
 "cells": [
  {
   "cell_type": "raw",
   "metadata": {},
   "source": [
    "---\n",
    "description: Naive and fast implementations of common window operations.\n",
    "output-file: index.html\n",
    "title: Window ops\n",
    "\n",
    "---\n",
    "\n"
   ]
  },
  {
   "cell_type": "code",
   "execution_count": null,
   "metadata": {},
   "outputs": [],
   "source": [
    "#| include: false\n",
    "%load_ext autoreload\n",
    "%autoreload 2"
   ]
  },
  {
   "cell_type": "markdown",
   "metadata": {},
   "source": [
    "This library is intended to be used as an alternative to `pd.Series.rolling` and `pd.Series.expanding` to gain a speedup by using numba optimized functions operating on numpy arrays. There are also online classes for more efficient updates of window statistics."
   ]
  },
  {
   "cell_type": "markdown",
   "metadata": {},
   "source": [
    "## Install"
   ]
  },
  {
   "cell_type": "markdown",
   "metadata": {},
   "source": [
    "`pip install window-ops`"
   ]
  },
  {
   "cell_type": "markdown",
   "metadata": {},
   "source": [
    "## How to use"
   ]
  },
  {
   "cell_type": "markdown",
   "metadata": {},
   "source": [
    "### Transformations"
   ]
  },
  {
   "cell_type": "markdown",
   "metadata": {},
   "source": [
    "For a transformations `n_samples` -> `n_samples` you can use `{[seasonal_](rolling|expanding)}_{(mean|max|min|std)}` on an array."
   ]
  },
  {
   "cell_type": "markdown",
   "metadata": {},
   "source": [
    "#### Benchmarks"
   ]
  },
  {
   "cell_type": "code",
   "execution_count": null,
   "metadata": {},
   "outputs": [],
   "source": [
    "#| include: false\n",
    "import random\n",
    "import time\n",
    "from functools import partial\n",
    "\n",
    "import numpy as np\n",
    "import pandas as pd\n",
    "from IPython.display import Markdown\n",
    "\n",
    "import window_ops\n",
    "from window_ops.ewm import *\n",
    "from window_ops.expanding import *\n",
    "from window_ops.online import *\n",
    "from window_ops.rolling import *"
   ]
  },
  {
   "cell_type": "code",
   "execution_count": null,
   "metadata": {},
   "outputs": [
    {
     "data": {
      "text/plain": [
       "'1.2.3'"
      ]
     },
     "execution_count": null,
     "metadata": {},
     "output_type": "execute_result"
    }
   ],
   "source": [
    "pd.__version__"
   ]
  },
  {
   "cell_type": "code",
   "execution_count": null,
   "metadata": {},
   "outputs": [],
   "source": [
    "n_samples = 1_000  # array size\n",
    "window_size = 8  # for rolling operations\n",
    "season_length = 7  # for seasonal operations\n",
    "execute_times = 1_000 # number of times each function will be executed"
   ]
  },
  {
   "cell_type": "code",
   "execution_count": null,
   "metadata": {},
   "outputs": [],
   "source": [
    "#| include: false\n",
    "np.random.seed(0)\n",
    "random.seed(0)\n",
    "y = np.random.rand(n_samples)\n",
    "ys = pd.Series(y)\n",
    "groups = np.arange(n_samples) % season_length\n",
    "grouped_y = ys.groupby(groups)"
   ]
  },
  {
   "cell_type": "code",
   "execution_count": null,
   "metadata": {},
   "outputs": [],
   "source": [
    "#| include: false\n",
    "times = {'window_ops': {}, 'pandas': {}}\n",
    "ops = ('mean', 'max', 'min', 'std')\n",
    "for kind in ('rolling', 'expanding', 'seasonal_rolling', 'seasonal_expanding'):\n",
    "    for op in ops:\n",
    "        functions = {}\n",
    "        if kind == 'rolling':\n",
    "            functions['window_ops'] = partial(getattr(window_ops.rolling, f'{kind}_{op}'), window_size=window_size)\n",
    "            functions['pandas'] = lambda y: y.rolling(window_size, min_periods=window_size).agg(op)\n",
    "        elif kind == 'expanding':\n",
    "            functions['window_ops'] = getattr(window_ops.expanding, f'{kind}_{op}')\n",
    "            functions['pandas'] = lambda y: y.expanding().agg(op)\n",
    "        elif kind == 'seasonal_rolling':\n",
    "            functions['window_ops'] = partial(getattr(window_ops.rolling, f'{kind}_{op}'), \n",
    "                                              season_length=season_length, window_size=window_size)\n",
    "            functions['pandas'] = lambda grouped_y: grouped_y.transform(lambda x: x.rolling(window_size).agg(op))\n",
    "        elif kind == 'seasonal_expanding':\n",
    "            functions['window_ops'] = partial(getattr(window_ops.expanding, f'{kind}_{op}'), season_length=season_length)\n",
    "            functions['pandas'] = lambda grouped_y: grouped_y.transform(lambda x: x.expanding().agg(op))\n",
    "        else:\n",
    "            raise ValueError(kind)\n",
    "            \n",
    "        results = {}            \n",
    "        for impl in ('window_ops', 'pandas'):\n",
    "            if impl == 'window_ops':\n",
    "                x = y\n",
    "            else:\n",
    "                x = grouped_y if kind.startswith('seasonal') else ys\n",
    "            func = functions[impl]\n",
    "            results[impl] = func(x)\n",
    "            start = time.perf_counter()\n",
    "            for _ in range(execute_times):\n",
    "                func(x)\n",
    "            times[impl][f'{kind}_{op}'] = time.perf_counter() - start\n",
    "        assert np.allclose(results['window_ops'], results['pandas'], equal_nan=True)\n",
    "times = pd.DataFrame(times) * 1_000 / execute_times"
   ]
  },
  {
   "cell_type": "code",
   "execution_count": null,
   "metadata": {},
   "outputs": [],
   "source": [
    "#| include: false\n",
    "def display_dataframe(df, fmt):\n",
    "    return Markdown(df.applymap(fmt.format).to_markdown())"
   ]
  },
  {
   "cell_type": "markdown",
   "metadata": {},
   "source": [
    "Average times in milliseconds."
   ]
  },
  {
   "cell_type": "code",
   "execution_count": null,
   "metadata": {},
   "outputs": [
    {
     "data": {
      "text/markdown": [
       "|                         |   window_ops |   pandas |\n",
       "|:------------------------|-------------:|---------:|\n",
       "| rolling_mean            |         0    |     0.17 |\n",
       "| rolling_max             |         0.01 |     0.19 |\n",
       "| rolling_min             |         0.01 |     0.23 |\n",
       "| rolling_std             |         0.01 |     0.22 |\n",
       "| expanding_mean          |         0    |     0.13 |\n",
       "| expanding_max           |         0    |     0.13 |\n",
       "| expanding_min           |         0    |     0.13 |\n",
       "| expanding_std           |         0.01 |     0.14 |\n",
       "| seasonal_rolling_mean   |         0    |     2.62 |\n",
       "| seasonal_rolling_max    |         0.02 |     3.04 |\n",
       "| seasonal_rolling_min    |         0.02 |     2.85 |\n",
       "| seasonal_rolling_std    |         0.01 |     2.37 |\n",
       "| seasonal_expanding_mean |         0    |     1.9  |\n",
       "| seasonal_expanding_max  |         0.01 |     1.79 |\n",
       "| seasonal_expanding_min  |         0.01 |     1.81 |\n",
       "| seasonal_expanding_std  |         0.01 |     2.45 |"
      ],
      "text/plain": [
       "<IPython.core.display.Markdown object>"
      ]
     },
     "execution_count": null,
     "metadata": {},
     "output_type": "execute_result"
    }
   ],
   "source": [
    "display_dataframe(times, fmt='{:.2f}')"
   ]
  },
  {
   "cell_type": "code",
   "execution_count": null,
   "metadata": {},
   "outputs": [],
   "source": [
    "#| include: false\n",
    "speedups = times['pandas'] / times['window_ops']\n",
    "speedups = speedups.to_frame('times faster')"
   ]
  },
  {
   "cell_type": "code",
   "execution_count": null,
   "metadata": {},
   "outputs": [
    {
     "data": {
      "text/markdown": [
       "|                         |   times faster |\n",
       "|:------------------------|---------------:|\n",
       "| rolling_mean            |             76 |\n",
       "| rolling_max             |             14 |\n",
       "| rolling_min             |             21 |\n",
       "| rolling_std             |             33 |\n",
       "| expanding_mean          |             44 |\n",
       "| expanding_max           |             32 |\n",
       "| expanding_min           |             32 |\n",
       "| expanding_std           |             19 |\n",
       "| seasonal_rolling_mean   |            632 |\n",
       "| seasonal_rolling_max    |            201 |\n",
       "| seasonal_rolling_min    |            173 |\n",
       "| seasonal_rolling_std    |            322 |\n",
       "| seasonal_expanding_mean |            494 |\n",
       "| seasonal_expanding_max  |            353 |\n",
       "| seasonal_expanding_min  |            339 |\n",
       "| seasonal_expanding_std  |            238 |"
      ],
      "text/plain": [
       "<IPython.core.display.Markdown object>"
      ]
     },
     "execution_count": null,
     "metadata": {},
     "output_type": "execute_result"
    }
   ],
   "source": [
    "display_dataframe(speedups, fmt='{:.0f}')"
   ]
  },
  {
   "cell_type": "markdown",
   "metadata": {},
   "source": [
    "### Online"
   ]
  },
  {
   "cell_type": "markdown",
   "metadata": {},
   "source": [
    "If you have an array for which you want to compute a window statistic and then keep updating it as more samples come in you can use the classes in the `window_ops.online` module. They all have a `fit_transform` method which take the array and return the transformations defined above but also have an `update` method that take a single value and return the new statistic."
   ]
  },
  {
   "cell_type": "code",
   "execution_count": null,
   "metadata": {},
   "outputs": [],
   "source": [
    "#| include: false\n",
    "times = {}\n",
    "ops = ('mean', 'max', 'min', 'std')\n",
    "online_class = None\n",
    "for kind in ('Rolling', 'Expanding', 'SeasonalRolling', 'SeasonalExpanding'):\n",
    "    for op in ops:\n",
    "        if kind == 'Rolling':\n",
    "            online_class = getattr(window_ops.online, f'{kind}{op.title()}')(window_size=window_size)\n",
    "        elif kind == 'Expanding':\n",
    "            online_class = getattr(window_ops.online, f'{kind}{op.title()}')()\n",
    "        elif kind == 'SeasonalRolling':\n",
    "            online_class = getattr(window_ops.online, f'{kind}{op.title()}')(season_length=season_length, window_size=window_size)\n",
    "        elif kind == 'SeasonalExpanding':\n",
    "            online_class = getattr(window_ops.online, f'{kind}{op.title()}')(season_length=season_length)\n",
    "        else:\n",
    "            raise ValueError(kind)\n",
    "        \n",
    "        # compile\n",
    "        online_class.fit_transform(y)\n",
    "        \n",
    "        start = time.perf_counter()\n",
    "        for _ in range(execute_times):\n",
    "            online_class.fit_transform(y)\n",
    "            for i in range(100):\n",
    "                online_class.update(i)\n",
    "        times[f'{kind}{op.title()}'] = time.perf_counter() - start\n",
    "times = pd.Series(times, name='average time (ms)') * 1_000 / execute_times"
   ]
  },
  {
   "cell_type": "markdown",
   "metadata": {},
   "source": [
    "#### Benchmarks"
   ]
  },
  {
   "cell_type": "markdown",
   "metadata": {},
   "source": [
    "Average time in milliseconds it takes to transform the array and perform 100 updates."
   ]
  },
  {
   "cell_type": "code",
   "execution_count": null,
   "metadata": {},
   "outputs": [
    {
     "data": {
      "text/markdown": [
       "|                       |   average time (ms) |\n",
       "|:----------------------|--------------------:|\n",
       "| RollingMean           |                0.07 |\n",
       "| RollingMax            |                0.09 |\n",
       "| RollingMin            |                0.09 |\n",
       "| RollingStd            |                0.24 |\n",
       "| ExpandingMean         |                0.08 |\n",
       "| ExpandingMax          |                0.03 |\n",
       "| ExpandingMin          |                0.02 |\n",
       "| ExpandingStd          |                0.08 |\n",
       "| SeasonalRollingMean   |                0.18 |\n",
       "| SeasonalRollingMax    |                0.14 |\n",
       "| SeasonalRollingMin    |                0.19 |\n",
       "| SeasonalRollingStd    |                0.25 |\n",
       "| SeasonalExpandingMean |                0.09 |\n",
       "| SeasonalExpandingMax  |                0.06 |\n",
       "| SeasonalExpandingMin  |                0.06 |\n",
       "| SeasonalExpandingStd  |                0.09 |"
      ],
      "text/plain": [
       "<IPython.core.display.Markdown object>"
      ]
     },
     "execution_count": null,
     "metadata": {},
     "output_type": "execute_result"
    }
   ],
   "source": [
    "display_dataframe(times.to_frame(), '{:.2f}')"
   ]
  }
 ],
 "metadata": {
  "kernelspec": {
   "display_name": "Python 3",
   "language": "python",
   "name": "python3"
  }
 },
 "nbformat": 4,
 "nbformat_minor": 4
}

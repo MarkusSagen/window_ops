{
 "cells": [
  {
   "cell_type": "code",
   "execution_count": null,
   "metadata": {},
   "outputs": [],
   "source": [
    "#hide\n",
    "%load_ext autoreload\n",
    "%autoreload 2"
   ]
  },
  {
   "cell_type": "markdown",
   "metadata": {},
   "source": [
    "# Window ops\n",
    "\n",
    "> Naive and fast implementations of common window operations."
   ]
  },
  {
   "cell_type": "markdown",
   "metadata": {},
   "source": [
    "This library is intended to be used as an alternative to `pd.Series.rolling` and `pd.Series.expanding` to gain a speedup by using numba optimized functions operating on numpy arrays and avoiding input checks. There are also online classes for more efficient updates of window statistics."
   ]
  },
  {
   "cell_type": "markdown",
   "metadata": {},
   "source": [
    "## Install"
   ]
  },
  {
   "cell_type": "markdown",
   "metadata": {},
   "source": [
    "`pip install window-ops`"
   ]
  },
  {
   "cell_type": "markdown",
   "metadata": {},
   "source": [
    "## How to use"
   ]
  },
  {
   "cell_type": "markdown",
   "metadata": {},
   "source": [
    "For a transformations `n_samples` -> `n_samples` you can use `{[seasonal_](rolling|expanding)}_{(mean|max|min|std)}` on an array."
   ]
  },
  {
   "cell_type": "markdown",
   "metadata": {},
   "source": [
    "#### Benchmarks"
   ]
  },
  {
   "cell_type": "code",
   "execution_count": null,
   "metadata": {},
   "outputs": [],
   "source": [
    "#hide\n",
    "import random\n",
    "import time\n",
    "from functools import partial\n",
    "\n",
    "import numpy as np\n",
    "import pandas as pd\n",
    "from IPython.display import Markdown\n",
    "\n",
    "import window_ops\n",
    "from window_ops.ewm import *\n",
    "from window_ops.expanding import *\n",
    "from window_ops.online import *\n",
    "from window_ops.rolling import *"
   ]
  },
  {
   "cell_type": "code",
   "execution_count": null,
   "metadata": {},
   "outputs": [],
   "source": [
    "n_samples = 1_000  # array size\n",
    "window_size = 8  # for rolling operations\n",
    "season_length = 7  # for seasonal operations\n",
    "execute_times = 1_000 # number of times each function will be executed"
   ]
  },
  {
   "cell_type": "code",
   "execution_count": null,
   "metadata": {},
   "outputs": [],
   "source": [
    "#hide\n",
    "np.random.seed(0)\n",
    "random.seed(0)\n",
    "y = np.random.rand(n_samples)\n",
    "ys = pd.Series(y)\n",
    "groups = np.arange(n_samples) % season_length\n",
    "grouped_y = ys.groupby(groups)"
   ]
  },
  {
   "cell_type": "code",
   "execution_count": null,
   "metadata": {},
   "outputs": [],
   "source": [
    "#hide\n",
    "times = {'window_ops': {}, 'pandas': {}}\n",
    "ops = ('mean', 'max', 'min', 'std')\n",
    "for kind in ('rolling', 'expanding', 'seasonal_rolling', 'seasonal_expanding'):\n",
    "    for op in ops:\n",
    "        functions = {}\n",
    "        if kind == 'rolling':\n",
    "            functions['window_ops'] = partial(getattr(window_ops.rolling, f'{kind}_{op}'), window_size=window_size)\n",
    "            functions['pandas'] = lambda y: y.rolling(window_size, min_periods=window_size).agg(op)\n",
    "        elif kind == 'expanding':\n",
    "            functions['window_ops'] = getattr(window_ops.expanding, f'{kind}_{op}')\n",
    "            functions['pandas'] = lambda y: y.expanding().agg(op)\n",
    "        elif kind == 'seasonal_rolling':\n",
    "            functions['window_ops'] = partial(getattr(window_ops.rolling, f'{kind}_{op}'), \n",
    "                                              season_length=season_length, window_size=window_size)\n",
    "            functions['pandas'] = lambda grouped_y: grouped_y.transform(lambda x: x.rolling(window_size).agg(op))\n",
    "        elif kind == 'seasonal_expanding':\n",
    "            functions['window_ops'] = partial(getattr(window_ops.expanding, f'{kind}_{op}'), season_length=season_length)\n",
    "            functions['pandas'] = lambda grouped_y: grouped_y.transform(lambda x: x.expanding().agg(op))\n",
    "        else:\n",
    "            raise ValueError(kind)\n",
    "            \n",
    "        results = {}            \n",
    "        for impl in ('window_ops', 'pandas'):\n",
    "            if impl == 'window_ops':\n",
    "                x = y\n",
    "            else:\n",
    "                x = grouped_y if kind.startswith('seasonal') else ys\n",
    "            func = functions[impl]\n",
    "            results[impl] = func(x)\n",
    "            start = time.perf_counter()\n",
    "            for _ in range(execute_times):\n",
    "                func(x)\n",
    "            times[impl][f'{kind}_{op}'] = time.perf_counter() - start\n",
    "        assert np.allclose(results['window_ops'], results['pandas'], equal_nan=True)\n",
    "times = pd.DataFrame(times) * 1_000 / execute_times"
   ]
  },
  {
   "cell_type": "code",
   "execution_count": null,
   "metadata": {},
   "outputs": [],
   "source": [
    "#hide\n",
    "def display_dataframe(df, fmt):\n",
    "    return Markdown(df.applymap(fmt.format).to_markdown())"
   ]
  },
  {
   "cell_type": "markdown",
   "metadata": {},
   "source": [
    "Average times in milliseconds."
   ]
  },
  {
   "cell_type": "code",
   "execution_count": null,
   "metadata": {},
   "outputs": [
    {
     "data": {
      "text/markdown": [
       "|                         |   window_ops |   pandas |\n",
       "|:------------------------|-------------:|---------:|\n",
       "| rolling_mean            |         0    |     0.19 |\n",
       "| rolling_max             |         0.01 |     0.2  |\n",
       "| rolling_min             |         0.01 |     0.2  |\n",
       "| rolling_std             |         0.01 |     0.22 |\n",
       "| expanding_mean          |         0    |     0.13 |\n",
       "| expanding_max           |         0.01 |     0.14 |\n",
       "| expanding_min           |         0.01 |     0.13 |\n",
       "| expanding_std           |         0.01 |     0.15 |\n",
       "| seasonal_rolling_mean   |         0.01 |     2.99 |\n",
       "| seasonal_rolling_max    |         0.02 |     2.68 |\n",
       "| seasonal_rolling_min    |         0.02 |     2.64 |\n",
       "| seasonal_rolling_std    |         0.02 |     2.84 |\n",
       "| seasonal_expanding_mean |         0.02 |     2.36 |\n",
       "| seasonal_expanding_max  |         0.02 |     2.19 |\n",
       "| seasonal_expanding_min  |         0.02 |     2.24 |\n",
       "| seasonal_expanding_std  |         0.02 |     2.43 |"
      ],
      "text/plain": [
       "<IPython.core.display.Markdown object>"
      ]
     },
     "execution_count": null,
     "metadata": {},
     "output_type": "execute_result"
    }
   ],
   "source": [
    "display_dataframe(times, fmt='{:.2f}')"
   ]
  },
  {
   "cell_type": "code",
   "execution_count": null,
   "metadata": {},
   "outputs": [],
   "source": [
    "#hide\n",
    "speedups = times['pandas'] / times['window_ops']\n",
    "speedups = speedups.to_frame('times faster')"
   ]
  },
  {
   "cell_type": "code",
   "execution_count": null,
   "metadata": {},
   "outputs": [
    {
     "data": {
      "text/markdown": [
       "|                         |   times faster |\n",
       "|:------------------------|---------------:|\n",
       "| rolling_mean            |             89 |\n",
       "| rolling_max             |             16 |\n",
       "| rolling_min             |             15 |\n",
       "| rolling_std             |             38 |\n",
       "| expanding_mean          |             55 |\n",
       "| expanding_max           |             11 |\n",
       "| expanding_min           |             10 |\n",
       "| expanding_std           |             17 |\n",
       "| seasonal_rolling_mean   |            204 |\n",
       "| seasonal_rolling_max    |            110 |\n",
       "| seasonal_rolling_min    |            111 |\n",
       "| seasonal_rolling_std    |            161 |\n",
       "| seasonal_expanding_mean |            156 |\n",
       "| seasonal_expanding_max  |            127 |\n",
       "| seasonal_expanding_min  |            130 |\n",
       "| seasonal_expanding_std  |            119 |"
      ],
      "text/plain": [
       "<IPython.core.display.Markdown object>"
      ]
     },
     "execution_count": null,
     "metadata": {},
     "output_type": "execute_result"
    }
   ],
   "source": [
    "display_dataframe(speedups, fmt='{:.0f}')"
   ]
  }
 ],
 "metadata": {
  "kernelspec": {
   "display_name": "Python 3",
   "language": "python",
   "name": "python3"
  }
 },
 "nbformat": 4,
 "nbformat_minor": 4
}

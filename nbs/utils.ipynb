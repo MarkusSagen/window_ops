{
 "cells": [
  {
   "cell_type": "code",
   "execution_count": null,
   "metadata": {},
   "outputs": [],
   "source": [
    "#default_exp utils"
   ]
  },
  {
   "cell_type": "markdown",
   "metadata": {},
   "source": [
    "# Utils"
   ]
  },
  {
   "cell_type": "code",
   "execution_count": null,
   "metadata": {},
   "outputs": [],
   "source": [
    "#exporti\n",
    "from math import sqrt\n",
    "from typing import Optional\n",
    "\n",
    "import numpy as np\n",
    "from numba import njit"
   ]
  },
  {
   "cell_type": "code",
   "execution_count": null,
   "metadata": {},
   "outputs": [],
   "source": [
    "#exporti\n",
    "@njit\n",
    "def _expanding_std(x: np.ndarray) -> np.ndarray:\n",
    "    n_samples = x.size\n",
    "    out = np.empty(n_samples, dtype=np.float32)\n",
    "    out[0] = np.nan\n",
    "    accum_x = x[0]\n",
    "    accum_xsq = x[0]**2\n",
    "    for i in range(1, n_samples):\n",
    "        accum_x += x[i]\n",
    "        accum_xsq += x[i]**2\n",
    "        out[i] = sqrt((accum_xsq - accum_x**2 / (i+1)) / i)\n",
    "    return out, accum_xsq, accum_x\n",
    "\n",
    "@njit\n",
    "def _rolling_std(x: np.ndarray, \n",
    "                window_size: int,\n",
    "                min_samples: Optional[int] = None) -> np.ndarray:\n",
    "    if min_samples is None:\n",
    "        min_samples = window_size\n",
    "    if min_samples < 2:\n",
    "        raise ValueError('min_samples must be greater than 1')\n",
    "    n_samples = x.size\n",
    "    out = np.full(n_samples, np.nan, dtype=np.float32)\n",
    "    accum_x = 0.\n",
    "    accum_xsq = 0.\n",
    "    for i in range(min_samples - 1):\n",
    "        accum_x += x[i]        \n",
    "        accum_xsq += x[i]**2\n",
    "    for i in range(min_samples - 1, window_size):\n",
    "        accum_x += x[i]        \n",
    "        accum_xsq += x[i]**2\n",
    "        if i > 0:\n",
    "            out[i] = sqrt((accum_xsq - accum_x**2 / (i+1)) / i)\n",
    "    out[0] = np.nan\n",
    "    for i in range(window_size, n_samples):\n",
    "        accum_xsq += x[i]**2 - x[i-window_size]**2\n",
    "        accum_x += x[i] - x[i-window_size]\n",
    "        out[i] = sqrt((accum_xsq - accum_x**2 / window_size) / (window_size-1))\n",
    "    return out, accum_xsq, accum_x"
   ]
  }
 ],
 "metadata": {
  "kernelspec": {
   "display_name": "Python 3",
   "language": "python",
   "name": "python3"
  }
 },
 "nbformat": 4,
 "nbformat_minor": 4
}

{
 "cells": [
  {
   "cell_type": "code",
   "execution_count": null,
   "metadata": {},
   "outputs": [],
   "source": [
    "#default_exp utils"
   ]
  },
  {
   "cell_type": "markdown",
   "metadata": {},
   "source": [
    "# Utils"
   ]
  },
  {
   "cell_type": "code",
   "execution_count": null,
   "metadata": {},
   "outputs": [],
   "source": [
    "#exporti\n",
    "from math import sqrt\n",
    "from typing import Optional, Tuple\n",
    "\n",
    "import numpy as np\n",
    "from numba import njit"
   ]
  },
  {
   "cell_type": "code",
   "execution_count": null,
   "metadata": {},
   "outputs": [],
   "source": [
    "#exporti\n",
    "@njit\n",
    "def _validate_rolling_sizes(n_samples: int, \n",
    "                            window_size: int,\n",
    "                            min_samples: Optional[int] = None\n",
    "                           ) -> Tuple[int,int]:\n",
    "    if window_size > n_samples:\n",
    "        window_size = n_samples\n",
    "    # have to split the following if because of numba\n",
    "    if min_samples is None:\n",
    "        min_samples = window_size\n",
    "    if min_samples > window_size:\n",
    "        min_samples = window_size\n",
    "    return window_size, min_samples\n",
    "\n",
    "@njit\n",
    "def _rolling_std(x: np.ndarray, \n",
    "                 window_size: int,\n",
    "                 min_samples: Optional[int] = None) -> np.ndarray:\n",
    "    n_samples = x.size\n",
    "    window_size, min_samples = _validate_rolling_sizes(n_samples, window_size, min_samples)\n",
    "    if min_samples < 2:\n",
    "        raise ValueError('min_samples must be greater than 1')    \n",
    "    out = np.full(n_samples, np.nan, dtype=np.float32)\n",
    "    prev_avg = 0.\n",
    "    curr_avg = x[0]\n",
    "    x_m2n = 0.\n",
    "    for i in range(1, window_size):\n",
    "        prev_avg = curr_avg\n",
    "        curr_avg = prev_avg + (x[i] - prev_avg) / (i + 1)\n",
    "        x_m2n += (x[i] - prev_avg) * (x[i] - curr_avg)\n",
    "        if i + 1 >= min_samples:\n",
    "            out[i] = sqrt(x_m2n / i)\n",
    "    for i in range(window_size, n_samples):\n",
    "        prev_avg = curr_avg\n",
    "        curr_avg = prev_avg + (x[i] - x[i-window_size]) / window_size\n",
    "        x_m2n += (x[i] - x[i-window_size]) * (x[i] - curr_avg + x[i-window_size] - prev_avg)\n",
    "        out[i] = sqrt(x_m2n / (window_size - 1))            \n",
    "    return out, curr_avg, x_m2n\n",
    "\n",
    "@njit\n",
    "def _gt(x: float, y: float) -> float:\n",
    "    return x - y\n",
    "\n",
    "@njit\n",
    "def _lt(x: float, y: float) -> float:\n",
    "    return -_gt(x, y)"
   ]
  }
 ],
 "metadata": {
  "kernelspec": {
   "display_name": "Python 3",
   "language": "python",
   "name": "python3"
  }
 },
 "nbformat": 4,
 "nbformat_minor": 4
}

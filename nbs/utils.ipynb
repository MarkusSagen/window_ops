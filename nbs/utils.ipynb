{
 "cells": [
  {
   "cell_type": "code",
   "execution_count": null,
   "metadata": {},
   "outputs": [],
   "source": [
    "#default_exp utils"
   ]
  },
  {
   "cell_type": "markdown",
   "metadata": {},
   "source": [
    "# Utils"
   ]
  },
  {
   "cell_type": "code",
   "execution_count": null,
   "metadata": {},
   "outputs": [],
   "source": [
    "#exporti\n",
    "from math import sqrt\n",
    "from typing import Optional, Tuple\n",
    "\n",
    "import numpy as np\n",
    "from numba import njit"
   ]
  },
  {
   "cell_type": "code",
   "execution_count": null,
   "metadata": {},
   "outputs": [],
   "source": [
    "#exporti\n",
    "@njit\n",
    "def _validate_rolling_sizes(n_samples: int, \n",
    "                            window_size: int,\n",
    "                            min_samples: Optional[int] = None\n",
    "                           ) -> Tuple[int,int]:\n",
    "    if window_size > n_samples:\n",
    "        window_size = n_samples\n",
    "    # have to split the following if because of numba\n",
    "    if min_samples is None:\n",
    "        min_samples = window_size\n",
    "    if min_samples > window_size:\n",
    "        min_samples = window_size\n",
    "    return window_size, min_samples\n",
    "\n",
    "@njit\n",
    "def _gt(x: float, y: float) -> float:\n",
    "    return x - y\n",
    "\n",
    "@njit\n",
    "def _lt(x: float, y: float) -> float:\n",
    "    return -_gt(x, y)"
   ]
  }
 ],
 "metadata": {
  "kernelspec": {
   "display_name": "Python 3",
   "language": "python",
   "name": "python3"
  }
 },
 "nbformat": 4,
 "nbformat_minor": 4
}

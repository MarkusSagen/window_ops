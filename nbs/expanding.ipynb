{
 "cells": [
  {
   "cell_type": "code",
   "execution_count": null,
   "metadata": {},
   "outputs": [],
   "source": [
    "#default_exp expanding"
   ]
  },
  {
   "cell_type": "markdown",
   "metadata": {},
   "source": [
    "# Expanding\n",
    "\n",
    "> Expanding window operations"
   ]
  },
  {
   "cell_type": "code",
   "execution_count": null,
   "metadata": {},
   "outputs": [],
   "source": [
    "#hide\n",
    "import random\n",
    "\n",
    "from nbdev.showdoc import *"
   ]
  },
  {
   "cell_type": "code",
   "execution_count": null,
   "metadata": {},
   "outputs": [],
   "source": [
    "#export\n",
    "from math import sqrt\n",
    "from typing import Callable, Optional\n",
    "\n",
    "import numpy as np\n",
    "import pandas as pd\n",
    "from numba import njit\n",
    "\n",
    "from window_ops.rolling import _lt, _gt\n",
    "from window_ops.utils import _expanding_std"
   ]
  },
  {
   "cell_type": "code",
   "execution_count": null,
   "metadata": {},
   "outputs": [],
   "source": [
    "#export\n",
    "@njit\n",
    "def expanding_mean(x: np.ndarray) -> np.ndarray:\n",
    "    n_samples = x.size\n",
    "    out = np.empty(n_samples, dtype=np.float32)\n",
    "    accum = 0.\n",
    "    for i in range(n_samples):\n",
    "        accum += x[i]\n",
    "        out[i] = accum / (i+1)\n",
    "    return out"
   ]
  },
  {
   "cell_type": "code",
   "execution_count": null,
   "metadata": {},
   "outputs": [],
   "source": [
    "y = np.random.rand(100)\n",
    "ys = pd.Series(y)\n",
    "\n",
    "assert np.allclose(expanding_mean(y), ys.expanding().mean().values)"
   ]
  },
  {
   "cell_type": "code",
   "execution_count": null,
   "metadata": {},
   "outputs": [],
   "source": [
    "#export\n",
    "@njit\n",
    "def expanding_std(x: np.ndarray) -> np.ndarray:\n",
    "    out, _, _ = _expanding_std(x)\n",
    "    return out"
   ]
  },
  {
   "cell_type": "code",
   "execution_count": null,
   "metadata": {},
   "outputs": [],
   "source": [
    "y = np.random.rand(100)\n",
    "ys = pd.Series(y)\n",
    "\n",
    "assert np.allclose(expanding_std(y), ys.expanding().std().values, equal_nan=True)"
   ]
  },
  {
   "cell_type": "code",
   "execution_count": null,
   "metadata": {},
   "outputs": [],
   "source": [
    "#exporti\n",
    "@njit\n",
    "def _expanding_comp(comp: Callable, x: np.ndarray) -> np.ndarray:\n",
    "    n_samples = x.size\n",
    "    out = np.empty(n_samples, dtype=np.float32)\n",
    "    pivot = x[0]\n",
    "    out[0] = pivot\n",
    "    for i in range(1, n_samples):\n",
    "        if comp(x[i], pivot):\n",
    "            pivot = x[i]\n",
    "        out[i] = pivot\n",
    "    return out"
   ]
  },
  {
   "cell_type": "code",
   "execution_count": null,
   "metadata": {},
   "outputs": [],
   "source": [
    "#export\n",
    "def expanding_max(x: np.ndarray) -> np.ndarray:\n",
    "    return _expanding_comp(_gt, x)"
   ]
  },
  {
   "cell_type": "code",
   "execution_count": null,
   "metadata": {},
   "outputs": [],
   "source": [
    "y = np.random.rand(100)\n",
    "ys = pd.Series(y)\n",
    "\n",
    "assert np.allclose(expanding_max(y), ys.expanding().max().values)"
   ]
  },
  {
   "cell_type": "code",
   "execution_count": null,
   "metadata": {},
   "outputs": [],
   "source": [
    "#export\n",
    "def expanding_min(x: np.ndarray) -> np.ndarray:\n",
    "    return _expanding_comp(_lt, x)"
   ]
  },
  {
   "cell_type": "code",
   "execution_count": null,
   "metadata": {},
   "outputs": [],
   "source": [
    "y = np.random.rand(100)\n",
    "ys = pd.Series(y)\n",
    "\n",
    "assert np.allclose(expanding_min(y), ys.expanding().min().values)"
   ]
  }
 ],
 "metadata": {
  "kernelspec": {
   "display_name": "Python 3",
   "language": "python",
   "name": "python3"
  }
 },
 "nbformat": 4,
 "nbformat_minor": 4
}

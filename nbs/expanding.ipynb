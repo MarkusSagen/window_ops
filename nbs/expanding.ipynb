{
 "cells": [
  {
   "cell_type": "code",
   "execution_count": null,
   "metadata": {},
   "outputs": [],
   "source": [
    "#default_exp expanding"
   ]
  },
  {
   "cell_type": "code",
   "execution_count": null,
   "metadata": {},
   "outputs": [],
   "source": [
    "#hide\n",
    "%load_ext autoreload\n",
    "%autoreload 2"
   ]
  },
  {
   "cell_type": "markdown",
   "metadata": {},
   "source": [
    "# Expanding\n",
    "\n",
    "> Expanding window operations"
   ]
  },
  {
   "cell_type": "code",
   "execution_count": null,
   "metadata": {},
   "outputs": [],
   "source": [
    "#hide\n",
    "import random\n",
    "\n",
    "from nbdev.showdoc import *"
   ]
  },
  {
   "cell_type": "code",
   "execution_count": null,
   "metadata": {},
   "outputs": [],
   "source": [
    "#export\n",
    "from math import sqrt\n",
    "from typing import Callable, Optional\n",
    "\n",
    "import numpy as np\n",
    "from numba import njit\n",
    "\n",
    "from window_ops.rolling import *\n",
    "from window_ops.utils import _gt, _lt"
   ]
  },
  {
   "cell_type": "code",
   "execution_count": null,
   "metadata": {},
   "outputs": [],
   "source": [
    "import pandas as pd\n",
    "\n",
    "np.random.seed(0)\n",
    "y = np.random.rand(100)\n",
    "ys = pd.Series(y)"
   ]
  },
  {
   "cell_type": "code",
   "execution_count": null,
   "metadata": {},
   "outputs": [],
   "source": [
    "#exporti\n",
    "def _expanding_op(rolling_op: Callable, x: np.ndarray, min_samples: int = 1) -> np.ndarray:\n",
    "    n_samples = x.size\n",
    "    return rolling_op(x, window_size=n_samples, min_samples=min_samples)"
   ]
  },
  {
   "cell_type": "code",
   "execution_count": null,
   "metadata": {},
   "outputs": [],
   "source": [
    "#export\n",
    "def expanding_mean(x: np.ndarray) -> np.ndarray:\n",
    "    return _expanding_op(rolling_mean, x)"
   ]
  },
  {
   "cell_type": "code",
   "execution_count": null,
   "metadata": {},
   "outputs": [],
   "source": [
    "assert np.allclose(expanding_mean(y), ys.expanding().mean().values)"
   ]
  },
  {
   "cell_type": "code",
   "execution_count": null,
   "metadata": {},
   "outputs": [],
   "source": [
    "#export\n",
    "def expanding_std(x: np.ndarray) -> np.ndarray:\n",
    "    return _expanding_op(rolling_std, x, min_samples = 2)"
   ]
  },
  {
   "cell_type": "code",
   "execution_count": null,
   "metadata": {},
   "outputs": [],
   "source": [
    "assert np.allclose(expanding_std(y), ys.expanding().std().values, equal_nan=True)"
   ]
  },
  {
   "cell_type": "code",
   "execution_count": null,
   "metadata": {},
   "outputs": [],
   "source": [
    "#exporti\n",
    "@njit\n",
    "def _expanding_comp(comp: Callable,\n",
    "                    x: np.ndarray) -> np.ndarray:\n",
    "    n_samples = x.size\n",
    "    out = np.empty(n_samples, dtype=np.float32)\n",
    "    pivot = x[0]\n",
    "    out[0] = pivot\n",
    "    for i in range(1, n_samples):\n",
    "        if comp(x[i], pivot) > 0:\n",
    "            pivot = x[i]\n",
    "        out[i] = pivot\n",
    "    return out"
   ]
  },
  {
   "cell_type": "code",
   "execution_count": null,
   "metadata": {},
   "outputs": [],
   "source": [
    "#export\n",
    "def expanding_max(x: np.ndarray) -> np.ndarray:\n",
    "    return _expanding_comp(_gt, x)"
   ]
  },
  {
   "cell_type": "code",
   "execution_count": null,
   "metadata": {},
   "outputs": [],
   "source": [
    "assert np.allclose(expanding_max(y), ys.expanding().max().values)"
   ]
  },
  {
   "cell_type": "code",
   "execution_count": null,
   "metadata": {},
   "outputs": [],
   "source": [
    "#export\n",
    "def expanding_min(x: np.ndarray) -> np.ndarray:\n",
    "    return _expanding_comp(_lt, x)"
   ]
  },
  {
   "cell_type": "code",
   "execution_count": null,
   "metadata": {},
   "outputs": [],
   "source": [
    "assert np.allclose(expanding_min(y), ys.expanding().min().values)"
   ]
  },
  {
   "cell_type": "markdown",
   "metadata": {},
   "source": [
    "## Seasonal"
   ]
  },
  {
   "cell_type": "code",
   "execution_count": null,
   "metadata": {},
   "outputs": [],
   "source": [
    "y_df = ys.to_frame('y')\n",
    "y_df['season'] = np.arange(7)[[i % 7 for i in range(y.size)]]"
   ]
  },
  {
   "cell_type": "code",
   "execution_count": null,
   "metadata": {},
   "outputs": [],
   "source": [
    "#exporti\n",
    "def _seasonal_expanding_op(rolling_op: Callable, x: np.ndarray, season_length: int,\n",
    "                           min_samples: int = 1) -> np.ndarray:\n",
    "    n_samples = x.size\n",
    "    return rolling_op(x, season_length=season_length, window_size=n_samples, min_samples=min_samples)"
   ]
  },
  {
   "cell_type": "code",
   "execution_count": null,
   "metadata": {},
   "outputs": [],
   "source": [
    "#export\n",
    "def seasonal_expanding_mean(x: np.ndarray, season_length: int) -> np.ndarray:\n",
    "    return _seasonal_expanding_op(seasonal_rolling_mean, x, season_length)"
   ]
  },
  {
   "cell_type": "code",
   "execution_count": null,
   "metadata": {},
   "outputs": [],
   "source": [
    "assert np.allclose(y_df.groupby('season')['y'].transform(lambda y: y.expanding().mean()).values,\n",
    "                   seasonal_expanding_mean(y, 7))"
   ]
  },
  {
   "cell_type": "code",
   "execution_count": null,
   "metadata": {},
   "outputs": [],
   "source": [
    "#export\n",
    "def seasonal_expanding_std(x: np.ndarray, season_length: int) -> np.ndarray:\n",
    "    return _seasonal_expanding_op(seasonal_rolling_std, x, season_length, min_samples=2)\n",
    "    return out"
   ]
  },
  {
   "cell_type": "code",
   "execution_count": null,
   "metadata": {},
   "outputs": [],
   "source": [
    "assert np.allclose(y_df.groupby('season')['y'].transform(lambda y: y.expanding().std()).values,\n",
    "                   seasonal_expanding_std(y, 7),\n",
    "                   equal_nan=True)"
   ]
  },
  {
   "cell_type": "code",
   "execution_count": null,
   "metadata": {},
   "outputs": [],
   "source": [
    "#export\n",
    "def seasonal_expanding_min(x: np.ndarray, season_length: int):\n",
    "    return _seasonal_expanding_op(seasonal_rolling_min, x, season_length)"
   ]
  },
  {
   "cell_type": "code",
   "execution_count": null,
   "metadata": {},
   "outputs": [],
   "source": [
    "assert np.allclose(y_df.groupby('season')['y'].transform(lambda y: y.expanding().min()).values,\n",
    "                   seasonal_expanding_min(y, 7))"
   ]
  },
  {
   "cell_type": "code",
   "execution_count": null,
   "metadata": {},
   "outputs": [],
   "source": [
    "#export\n",
    "def seasonal_expanding_max(x: np.ndarray, season_length: int):\n",
    "    return _seasonal_expanding_op(seasonal_rolling_max, x, season_length)"
   ]
  },
  {
   "cell_type": "code",
   "execution_count": null,
   "metadata": {},
   "outputs": [],
   "source": [
    "assert np.allclose(y_df.groupby('season')['y'].transform(lambda y: y.expanding().max()).values,\n",
    "                   seasonal_expanding_max(y, 7))"
   ]
  }
 ],
 "metadata": {
  "kernelspec": {
   "display_name": "Python 3",
   "language": "python",
   "name": "python3"
  }
 },
 "nbformat": 4,
 "nbformat_minor": 4
}

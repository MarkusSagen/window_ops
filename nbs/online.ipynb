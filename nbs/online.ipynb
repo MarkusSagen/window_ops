{
 "cells": [
  {
   "cell_type": "code",
   "execution_count": null,
   "metadata": {},
   "outputs": [],
   "source": [
    "#default_exp online"
   ]
  },
  {
   "cell_type": "code",
   "execution_count": null,
   "metadata": {},
   "outputs": [],
   "source": [
    "#hide\n",
    "%load_ext autoreload\n",
    "%autoreload 2"
   ]
  },
  {
   "cell_type": "markdown",
   "metadata": {},
   "source": [
    "# Online\n",
    "\n",
    "> Online window operations"
   ]
  },
  {
   "cell_type": "code",
   "execution_count": null,
   "metadata": {},
   "outputs": [],
   "source": [
    "#export\n",
    "from math import ceil, sqrt\n",
    "from typing import Callable, List, Optional, Union\n",
    "\n",
    "import numpy as np\n",
    "\n",
    "from window_ops.expanding import *\n",
    "from window_ops.ewm import *\n",
    "from window_ops.rolling import *\n",
    "from window_ops.rolling import _rolling_std\n",
    "from window_ops.shift import shift_array"
   ]
  },
  {
   "cell_type": "code",
   "execution_count": null,
   "metadata": {},
   "outputs": [],
   "source": [
    "np.random.seed(0)\n",
    "y = np.random.rand(100)"
   ]
  },
  {
   "cell_type": "code",
   "execution_count": null,
   "metadata": {},
   "outputs": [],
   "source": [
    "def test_online(OnlineOp, regular_op, y, n_updates=10, **op_kwargs):\n",
    "    expected = regular_op(y, **op_kwargs)\n",
    "    online = OnlineOp(**op_kwargs)\n",
    "    calculated = online.fit_transform(y[:-n_updates]).tolist()\n",
    "    for i in range(y.size - n_updates, y.size):\n",
    "        calculated.append(online.update(y[i]))\n",
    "    assert np.allclose(calculated, expected, equal_nan=True)"
   ]
  },
  {
   "cell_type": "markdown",
   "metadata": {},
   "source": [
    "## Rolling"
   ]
  },
  {
   "cell_type": "markdown",
   "metadata": {},
   "source": [
    "### Regular"
   ]
  },
  {
   "cell_type": "code",
   "execution_count": null,
   "metadata": {},
   "outputs": [],
   "source": [
    "#exporti\n",
    "class BaseOnlineRolling:\n",
    "    \n",
    "    def __init__(self, rolling_op: Callable, window_size: int, min_samples: Optional[int] = None):\n",
    "        self.rolling_op = rolling_op\n",
    "        self.window_size = window_size\n",
    "        self.min_samples = min_samples\n",
    "        \n",
    "    def fit_transform(self, x: np.ndarray) -> np.ndarray:\n",
    "        self.x = x[-self.window_size:].tolist()\n",
    "        return self.rolling_op(x, self.window_size, self.min_samples)\n",
    "    \n",
    "    def _update_x(self, x: float) -> None:\n",
    "        self.x = self.x[1:] + [x]"
   ]
  },
  {
   "cell_type": "code",
   "execution_count": null,
   "metadata": {},
   "outputs": [],
   "source": [
    "#export\n",
    "class RollingMean(BaseOnlineRolling):\n",
    "    \n",
    "    def __init__(self, window_size: int, min_samples: Optional[int] = None):\n",
    "        super().__init__(rolling_mean, window_size, min_samples)\n",
    "    \n",
    "    def update(self, x: float) -> float:\n",
    "        self._update_x(x)\n",
    "        return sum(self.x) / self.window_size"
   ]
  },
  {
   "cell_type": "code",
   "execution_count": null,
   "metadata": {},
   "outputs": [],
   "source": [
    "test_online(RollingMean, rolling_mean, y, window_size=3, min_samples=1)"
   ]
  },
  {
   "cell_type": "code",
   "execution_count": null,
   "metadata": {},
   "outputs": [],
   "source": [
    "#export\n",
    "class RollingMax(BaseOnlineRolling):\n",
    "    \n",
    "    def __init__(self, window_size: int, min_samples: Optional[int] = None):\n",
    "        super().__init__(rolling_max, window_size, min_samples)\n",
    "    \n",
    "    def update(self, x) -> float:\n",
    "        self._update_x(x)\n",
    "        return max(self.x)"
   ]
  },
  {
   "cell_type": "code",
   "execution_count": null,
   "metadata": {},
   "outputs": [],
   "source": [
    "test_online(RollingMax, rolling_max, y, window_size=4, min_samples=1)"
   ]
  },
  {
   "cell_type": "code",
   "execution_count": null,
   "metadata": {},
   "outputs": [],
   "source": [
    "#export\n",
    "class RollingMin(BaseOnlineRolling):\n",
    "    \n",
    "    def __init__(self, window_size: int, min_samples: Optional[int] = None):\n",
    "        super().__init__(rolling_min, window_size, min_samples)\n",
    "    \n",
    "    def update(self, x) -> float:\n",
    "        self.x = self.x[1:] + [x]\n",
    "        return min(self.x)"
   ]
  },
  {
   "cell_type": "code",
   "execution_count": null,
   "metadata": {},
   "outputs": [],
   "source": [
    "test_online(RollingMin, rolling_min, y, window_size=4, min_samples=1)"
   ]
  },
  {
   "cell_type": "code",
   "execution_count": null,
   "metadata": {},
   "outputs": [],
   "source": [
    "#export\n",
    "class RollingStd(BaseOnlineRolling):\n",
    "    \n",
    "    def __init__(self, window_size: int, min_samples: Optional[int] = None):\n",
    "        super().__init__(rolling_std, window_size, min_samples)\n",
    "        \n",
    "    def fit_transform(self, x: np.ndarray) -> np.ndarray:\n",
    "        result, self.curr_avg, self.m2 = _rolling_std(x, self.window_size, self.min_samples)\n",
    "        self.x = x[-self.window_size:].tolist()\n",
    "        return result\n",
    "    \n",
    "    def update(self, x) -> float:\n",
    "        prev_avg = self.curr_avg\n",
    "        new_minus_old = x - self.x[0]\n",
    "        self.curr_avg = prev_avg + new_minus_old / self.window_size\n",
    "        self.m2 += new_minus_old * (x - self.curr_avg + self.x[0] - prev_avg)\n",
    "        self._update_x(x)\n",
    "        return sqrt(self.m2 / (self.window_size - 1))"
   ]
  },
  {
   "cell_type": "code",
   "execution_count": null,
   "metadata": {},
   "outputs": [],
   "source": [
    "test_online(RollingStd, rolling_std, y, window_size=4, min_samples=2)"
   ]
  },
  {
   "cell_type": "markdown",
   "metadata": {},
   "source": [
    "### Seasonal"
   ]
  },
  {
   "cell_type": "code",
   "execution_count": null,
   "metadata": {},
   "outputs": [],
   "source": [
    "# #exporti\n",
    "# class BaseOnlineSeasonalRolling:\n",
    "    \n",
    "#     def __init__(self,\n",
    "#                  seasonal_rolling_op: Callable,\n",
    "#                  season_length: int,\n",
    "#                  window_size: int,\n",
    "#                  min_samples: Optional[int] = None):\n",
    "#         self.seasonal_rolling_op = seasonal_rolling_op\n",
    "#         self.season_length = season_length\n",
    "#         self.window_size = window_size\n",
    "#         self.min_samples = min_samples\n",
    "        \n",
    "#     def fit_transform(self, x: np.ndarray) -> np.ndarray:\n",
    "#         n_samples = x.size\n",
    "#         min_samples = self.season_length * self.window_size\n",
    "#         if n_samples < min_samples:\n",
    "#             return np.full(n_samples, np.nan)\n",
    "#         self.x = x[-min_samples:].tolist()\n",
    "#         return self.seasonal_rolling_op(x, self.season_length, self.window_size, self.min_samples)\n",
    "    \n",
    "#     def _update_and_get_seasonal_terms(self, x: float) -> List[float]:\n",
    "#         self.x = self.x[1:] + [x]\n",
    "#         return self.x[self.season_length-1::self.season_length]"
   ]
  },
  {
   "cell_type": "code",
   "execution_count": null,
   "metadata": {},
   "outputs": [],
   "source": [
    "#exporti\n",
    "class BaseOnlineSeasonalRolling:\n",
    "\n",
    "    def __init__(self,\n",
    "                 RollingOp: type,\n",
    "                 season_length: int,\n",
    "                 window_size: int,\n",
    "                 min_samples: Optional[int] = None):\n",
    "        self.RollingOp = RollingOp\n",
    "        self.season_length = season_length\n",
    "        self.window_size = window_size\n",
    "        self.min_samples = min_samples\n",
    "\n",
    "    def fit_transform(self, x: np.ndarray) -> np.ndarray:\n",
    "        self.rolling_ops = []\n",
    "        self.n_samples = x.size\n",
    "        result = np.full_like(x, np.nan)\n",
    "        for season in range(self.season_length):\n",
    "            rolling_op = self.RollingOp(window_size=self.window_size, min_samples=self.min_samples)\n",
    "            result[season::self.season_length] = rolling_op.fit_transform(x[season::self.season_length])\n",
    "            self.rolling_ops.append(rolling_op)\n",
    "        return result\n",
    "\n",
    "    def update(self, x: float) -> float:\n",
    "        season = self.n_samples % self.season_length\n",
    "        self.n_samples += 1\n",
    "        return self.rolling_ops[season].update(x)"
   ]
  },
  {
   "cell_type": "code",
   "execution_count": null,
   "metadata": {},
   "outputs": [],
   "source": [
    "#export\n",
    "class SeasonalRollingMean(BaseOnlineSeasonalRolling):\n",
    "    \n",
    "    def __init__(self,\n",
    "                 season_length: int,\n",
    "                 window_size: int,\n",
    "                 min_samples: Optional[int] = None):\n",
    "        super().__init__(RollingMean, season_length, window_size, min_samples)"
   ]
  },
  {
   "cell_type": "code",
   "execution_count": null,
   "metadata": {},
   "outputs": [],
   "source": [
    "test_online(SeasonalRollingMean, seasonal_rolling_mean, y, window_size=4, min_samples=1, season_length=7)"
   ]
  },
  {
   "cell_type": "code",
   "execution_count": null,
   "metadata": {},
   "outputs": [],
   "source": [
    "#export\n",
    "class SeasonalRollingStd(BaseOnlineSeasonalRolling):\n",
    "    \n",
    "    def __init__(self,\n",
    "                 season_length: int,\n",
    "                 window_size: int,\n",
    "                 min_samples: Optional[int] = None):\n",
    "        super().__init__(RollingStd, season_length, window_size, min_samples)\n",
    "        \n",
    "#     def fit_transform(self, x: np.ndarray) -> np.ndarray:\n",
    "#         n_samples = x.size\n",
    "#         output_array = np.full_like(x, np.nan)\n",
    "#         self.curr_avgs = []\n",
    "#         self.m2s= []\n",
    "#         for season in range(self.season_length):\n",
    "#             season_slice = slice(season, n_samples, self.season_length)\n",
    "#             result, curr_avg, m2 = _rolling_std(x[season_slice], self.window_size, self.min_samples)\n",
    "#             output_array[season_slice] = result\n",
    "#             self.curr_avgs.append(curr_avg)\n",
    "#             self.m2s.append(m2)\n",
    "    \n",
    "#     def update(self, x: float) -> float:\n",
    "        \n",
    "#         seasonal_terms = self._update_and_get_seasonal_terms(x)\n",
    "#         return np.std(seasonal_terms, ddof=1).item()"
   ]
  },
  {
   "cell_type": "code",
   "execution_count": null,
   "metadata": {},
   "outputs": [],
   "source": [
    "test_online(SeasonalRollingStd, seasonal_rolling_std, y, window_size=4, min_samples=2, season_length=7)"
   ]
  },
  {
   "cell_type": "code",
   "execution_count": null,
   "metadata": {},
   "outputs": [],
   "source": [
    "#export\n",
    "class SeasonalRollingMin(BaseOnlineSeasonalRolling):\n",
    "    \n",
    "    def __init__(self,\n",
    "                 season_length: int,\n",
    "                 window_size: int,\n",
    "                 min_samples: Optional[int] = None):\n",
    "        super().__init__(RollingMin, season_length, window_size, min_samples)\n",
    "    \n",
    "#     def update(self, x: float) -> float:\n",
    "#         seasonal_terms = self._update_and_get_seasonal_terms(x)\n",
    "#         return min(seasonal_terms)"
   ]
  },
  {
   "cell_type": "code",
   "execution_count": null,
   "metadata": {},
   "outputs": [],
   "source": [
    "test_online(SeasonalRollingMin, seasonal_rolling_min, y, window_size=4, min_samples=1, season_length=7)"
   ]
  },
  {
   "cell_type": "code",
   "execution_count": null,
   "metadata": {},
   "outputs": [],
   "source": [
    "#export\n",
    "class SeasonalRollingMax(BaseOnlineSeasonalRolling):\n",
    "    \n",
    "    def __init__(self,\n",
    "                 season_length: int,\n",
    "                 window_size: int,\n",
    "                 min_samples: Optional[int] = None):\n",
    "        super().__init__(RollingMax, season_length, window_size, min_samples)\n",
    "    \n",
    "#     def update(self, x: float) -> float:\n",
    "#         seasonal_terms = self._update_and_get_seasonal_terms(x)\n",
    "#         return max(seasonal_terms)"
   ]
  },
  {
   "cell_type": "code",
   "execution_count": null,
   "metadata": {},
   "outputs": [],
   "source": [
    "test_online(SeasonalRollingMax, seasonal_rolling_max, y, window_size=4, min_samples=1, season_length=7)"
   ]
  },
  {
   "cell_type": "markdown",
   "metadata": {},
   "source": [
    "## Expanding"
   ]
  },
  {
   "cell_type": "markdown",
   "metadata": {},
   "source": [
    "### Regular"
   ]
  },
  {
   "cell_type": "code",
   "execution_count": null,
   "metadata": {},
   "outputs": [],
   "source": [
    "#export\n",
    "class ExpandingMean:\n",
    "    \n",
    "    def fit_transform(self, x: np.ndarray) -> np.ndarray:\n",
    "        exp_mean = expanding_mean(x)\n",
    "        self.n = x.size\n",
    "        self.cumsum = exp_mean[-1] * self.n\n",
    "        return exp_mean\n",
    "        \n",
    "    def update(self, x: float) -> float:\n",
    "        self.cumsum += x\n",
    "        self.n += 1\n",
    "        return self.cumsum / self.n"
   ]
  },
  {
   "cell_type": "code",
   "execution_count": null,
   "metadata": {},
   "outputs": [],
   "source": [
    "np.random.seed(0)\n",
    "y = np.random.rand(100)"
   ]
  },
  {
   "cell_type": "code",
   "execution_count": null,
   "metadata": {},
   "outputs": [],
   "source": [
    "test_online(ExpandingMean, expanding_mean, y)"
   ]
  },
  {
   "cell_type": "code",
   "execution_count": null,
   "metadata": {},
   "outputs": [],
   "source": [
    "#export\n",
    "class ExpandingMax:\n",
    "    \n",
    "    def fit_transform(self, x: np.ndarray) -> np.ndarray:\n",
    "        exp_max = expanding_max(x)\n",
    "        self.max = exp_max[-1]\n",
    "        return exp_max\n",
    "        \n",
    "    def update(self, x: float) -> float:\n",
    "        if x > self.max:\n",
    "            self.max = x\n",
    "        return self.max"
   ]
  },
  {
   "cell_type": "code",
   "execution_count": null,
   "metadata": {},
   "outputs": [],
   "source": [
    "test_online(ExpandingMax, expanding_max, y)"
   ]
  },
  {
   "cell_type": "code",
   "execution_count": null,
   "metadata": {},
   "outputs": [],
   "source": [
    "#export\n",
    "class ExpandingMin:\n",
    "    \n",
    "    def fit_transform(self, x: np.ndarray) -> np.ndarray:\n",
    "        exp_min = expanding_min(x)\n",
    "        self.min = exp_min[-1]\n",
    "        return exp_min\n",
    "        \n",
    "    def update(self, x: float) -> float:\n",
    "        if x < self.min:\n",
    "            self.min = x\n",
    "        return self.min"
   ]
  },
  {
   "cell_type": "code",
   "execution_count": null,
   "metadata": {},
   "outputs": [],
   "source": [
    "test_online(ExpandingMin, expanding_min, y)"
   ]
  },
  {
   "cell_type": "code",
   "execution_count": null,
   "metadata": {},
   "outputs": [],
   "source": [
    "#export\n",
    "class ExpandingStd:\n",
    "    \n",
    "    def fit_transform(self, x):\n",
    "        self.n = x.size\n",
    "        exp_std, self.curr_avg, self.x_m2n = _rolling_std(x,\n",
    "                                                          window_size=self.n,\n",
    "                                                          min_samples=2)\n",
    "        return exp_std\n",
    "    \n",
    "    def update(self, x):\n",
    "        prev_avg = self.curr_avg\n",
    "        self.n += 1\n",
    "        self.curr_avg = prev_avg + (x - prev_avg) / self.n\n",
    "        self.x_m2n += (x - prev_avg) * (x - self.curr_avg)\n",
    "        return sqrt(self.x_m2n / (self. n - 1))"
   ]
  },
  {
   "cell_type": "code",
   "execution_count": null,
   "metadata": {},
   "outputs": [],
   "source": [
    "test_online(ExpandingStd, expanding_std, y)"
   ]
  },
  {
   "cell_type": "markdown",
   "metadata": {},
   "source": [
    "### Seasonal"
   ]
  },
  {
   "cell_type": "code",
   "execution_count": null,
   "metadata": {},
   "outputs": [],
   "source": [
    "#exporti\n",
    "class BaseSeasonalExpanding:\n",
    "\n",
    "    def __init__(self,\n",
    "                 ExpandingOp: type,\n",
    "                 season_length: int):\n",
    "        self.ExpandingOp = ExpandingOp\n",
    "        self.season_length = season_length\n",
    "\n",
    "    def fit_transform(self, x: np.ndarray) -> np.ndarray:\n",
    "        self.expanding_ops = []\n",
    "        self.n_samples = x.size\n",
    "        result = np.empty(self.n_samples)\n",
    "        for season in range(self.season_length):\n",
    "            exp_op = self.ExpandingOp()\n",
    "            result[season::self.season_length] = exp_op.fit_transform(x[season::self.season_length])\n",
    "            self.expanding_ops.append(exp_op)\n",
    "        return result\n",
    "\n",
    "    def update(self, x: float) -> float:\n",
    "        season = self.n_samples % self.season_length\n",
    "        self.n_samples += 1\n",
    "        return self.expanding_ops[season].update(x)   "
   ]
  },
  {
   "cell_type": "code",
   "execution_count": null,
   "metadata": {},
   "outputs": [],
   "source": [
    "#export\n",
    "class SeasonalExpandingMean(BaseSeasonalExpanding):\n",
    "    \n",
    "    def __init__(self, season_length: int):\n",
    "        super().__init__(ExpandingMean, season_length)"
   ]
  },
  {
   "cell_type": "code",
   "execution_count": null,
   "metadata": {},
   "outputs": [],
   "source": [
    "test_online(SeasonalExpandingMean, seasonal_expanding_mean, y, season_length=7)"
   ]
  },
  {
   "cell_type": "code",
   "execution_count": null,
   "metadata": {},
   "outputs": [],
   "source": [
    "#export\n",
    "class SeasonalExpandingStd(BaseSeasonalExpanding):\n",
    "    \n",
    "    def __init__(self, season_length: int):\n",
    "        super().__init__(ExpandingStd, season_length)"
   ]
  },
  {
   "cell_type": "code",
   "execution_count": null,
   "metadata": {},
   "outputs": [],
   "source": [
    "test_online(SeasonalExpandingStd, seasonal_expanding_std, y, season_length=7)"
   ]
  },
  {
   "cell_type": "code",
   "execution_count": null,
   "metadata": {},
   "outputs": [],
   "source": [
    "#export\n",
    "class SeasonalExpandingMin(BaseSeasonalExpanding):\n",
    "    \n",
    "    def __init__(self, season_length: int):\n",
    "        super().__init__(ExpandingMin, season_length)"
   ]
  },
  {
   "cell_type": "code",
   "execution_count": null,
   "metadata": {},
   "outputs": [],
   "source": [
    "test_online(SeasonalExpandingMin, seasonal_expanding_min, y, season_length=7)"
   ]
  },
  {
   "cell_type": "code",
   "execution_count": null,
   "metadata": {},
   "outputs": [],
   "source": [
    "#export\n",
    "class SeasonalExpandingMax(BaseSeasonalExpanding):\n",
    "    \n",
    "    def __init__(self, season_length: int):\n",
    "        super().__init__(ExpandingMax, season_length)"
   ]
  },
  {
   "cell_type": "code",
   "execution_count": null,
   "metadata": {},
   "outputs": [],
   "source": [
    "test_online(SeasonalExpandingMax, seasonal_expanding_max, y, season_length=7)"
   ]
  },
  {
   "cell_type": "markdown",
   "metadata": {},
   "source": [
    "## EWM"
   ]
  },
  {
   "cell_type": "code",
   "execution_count": null,
   "metadata": {},
   "outputs": [],
   "source": [
    "#export\n",
    "class EWMMean:\n",
    "    \n",
    "    def __init__(self, alpha):\n",
    "        self.alpha = alpha\n",
    "        \n",
    "    def fit_transform(self, x):\n",
    "        mn = ewm_mean(x, self.alpha)\n",
    "        self.smoothed = mn[-1]\n",
    "        return mn\n",
    "    \n",
    "    def update(self, x):\n",
    "        self.smoothed = self.alpha * x + (1 - self.alpha) * self.smoothed\n",
    "        return self.smoothed"
   ]
  },
  {
   "cell_type": "code",
   "execution_count": null,
   "metadata": {},
   "outputs": [],
   "source": [
    "test_online(EWMMean, ewm_mean, y, alpha=0.3)"
   ]
  },
  {
   "cell_type": "markdown",
   "metadata": {},
   "source": [
    "## Shifting"
   ]
  },
  {
   "cell_type": "code",
   "execution_count": null,
   "metadata": {},
   "outputs": [],
   "source": [
    "#export\n",
    "class Shift:\n",
    "    \n",
    "    def __init__(self, offset: int):\n",
    "        if offset <= 0:\n",
    "            raise ValueError('offset must be positive.')\n",
    "        self.offset = offset\n",
    "        \n",
    "    def fit_transform(self, x: np.ndarray) -> np.ndarray:\n",
    "        self.x = x[-self.offset:].tolist()\n",
    "        return shift_array(x, self.offset)\n",
    "    \n",
    "    def _update_x(self, x: float) -> None:\n",
    "        self.x = self.x[1:] + [x]\n",
    "        \n",
    "    def update(self, x: float) -> float:\n",
    "        result = self.x[0]\n",
    "        self._update_x(x)\n",
    "        return result"
   ]
  },
  {
   "cell_type": "code",
   "execution_count": null,
   "metadata": {},
   "outputs": [],
   "source": [
    "for offset in (1, 3, 7):\n",
    "    test_online(Shift, shift_array, y, offset=offset, n_updates=2*offset)"
   ]
  }
 ],
 "metadata": {
  "kernelspec": {
   "display_name": "Python 3",
   "language": "python",
   "name": "python3"
  }
 },
 "nbformat": 4,
 "nbformat_minor": 4
}

{
 "cells": [
  {
   "cell_type": "code",
   "execution_count": null,
   "metadata": {},
   "outputs": [],
   "source": [
    "#default_exp online"
   ]
  },
  {
   "cell_type": "code",
   "execution_count": null,
   "metadata": {},
   "outputs": [],
   "source": [
    "#hide\n",
    "%load_ext autoreload\n",
    "%autoreload 2"
   ]
  },
  {
   "cell_type": "markdown",
   "metadata": {},
   "source": [
    "# Online\n",
    "\n",
    "> Online window operations"
   ]
  },
  {
   "cell_type": "code",
   "execution_count": null,
   "metadata": {},
   "outputs": [],
   "source": [
    "#export\n",
    "from math import sqrt\n",
    "\n",
    "import numpy as np\n",
    "\n",
    "from window_ops.expanding import *\n",
    "from window_ops.ewm import *\n",
    "from window_ops.rolling import *\n",
    "from window_ops.utils import _expanding_std, _rolling_std"
   ]
  },
  {
   "cell_type": "code",
   "execution_count": null,
   "metadata": {},
   "outputs": [],
   "source": [
    "def test_online(OnlineOp, regular_op, y, n_updates=10, **op_kwargs):\n",
    "    expected = regular_op(y, **op_kwargs)\n",
    "    online = OnlineOp(**op_kwargs)\n",
    "    calculated = online.fit_transform(y[:n_updates]).tolist()\n",
    "    for i in range(n_updates, y.size):\n",
    "        calculated.append(online.update(y[i]))\n",
    "    assert np.allclose(calculated, expected, equal_nan=True)"
   ]
  },
  {
   "cell_type": "code",
   "execution_count": null,
   "metadata": {},
   "outputs": [],
   "source": [
    "#export\n",
    "class ExpandingMean:\n",
    "    \n",
    "    def fit_transform(self, x: np.ndarray) -> np.ndarray:\n",
    "        exp_mean = expanding_mean(x)\n",
    "        self.n = x.size\n",
    "        self.cumsum = exp_mean[-1] * self.n\n",
    "        return exp_mean\n",
    "        \n",
    "    def update(self, x: float) -> float:\n",
    "        self.cumsum += x\n",
    "        self.n += 1\n",
    "        return self.cumsum / self.n"
   ]
  },
  {
   "cell_type": "code",
   "execution_count": null,
   "metadata": {},
   "outputs": [],
   "source": [
    "np.random.seed(0)\n",
    "y = np.random.rand(100)"
   ]
  },
  {
   "cell_type": "code",
   "execution_count": null,
   "metadata": {},
   "outputs": [],
   "source": [
    "test_online(ExpandingMean, expanding_mean, y)"
   ]
  },
  {
   "cell_type": "code",
   "execution_count": null,
   "metadata": {},
   "outputs": [],
   "source": [
    "#export\n",
    "class ExpandingMax:\n",
    "    \n",
    "    def fit_transform(self, x: np.ndarray) -> np.ndarray:\n",
    "        exp_max = expanding_max(x)\n",
    "        self.max = exp_max[-1]\n",
    "        return exp_max\n",
    "        \n",
    "    def update(self, x: float) -> float:\n",
    "        if x > self.max:\n",
    "            self.max = x\n",
    "        return self.max"
   ]
  },
  {
   "cell_type": "code",
   "execution_count": null,
   "metadata": {},
   "outputs": [],
   "source": [
    "test_online(ExpandingMax, expanding_max, y)"
   ]
  },
  {
   "cell_type": "code",
   "execution_count": null,
   "metadata": {},
   "outputs": [],
   "source": [
    "#export\n",
    "class ExpandingMin:\n",
    "    \n",
    "    def fit_transform(self, x: np.ndarray) -> np.ndarray:\n",
    "        exp_min = expanding_min(x)\n",
    "        self.min = exp_min[-1]\n",
    "        return exp_min\n",
    "        \n",
    "    def update(self, x: float) -> float:\n",
    "        if x < self.min:\n",
    "            self.min = x\n",
    "        return self.min"
   ]
  },
  {
   "cell_type": "code",
   "execution_count": null,
   "metadata": {},
   "outputs": [],
   "source": [
    "test_online(ExpandingMin, expanding_min, y)"
   ]
  },
  {
   "cell_type": "code",
   "execution_count": null,
   "metadata": {},
   "outputs": [],
   "source": [
    "#export\n",
    "class ExpandingStd:\n",
    "    \n",
    "    def fit_transform(self, x):\n",
    "        self.n = x.size\n",
    "        exp_std, self.accum_xsq, self.accum_x = _expanding_std(x)\n",
    "        return exp_std\n",
    "    \n",
    "    def update(self, x):\n",
    "        self.accum_x += x\n",
    "        self.accum_xsq += x**2\n",
    "        self.n += 1\n",
    "        exp_var = (self.accum_xsq - self.accum_x**2 / self.n) / (self.n - 1)\n",
    "        return sqrt(exp_var)"
   ]
  },
  {
   "cell_type": "code",
   "execution_count": null,
   "metadata": {},
   "outputs": [],
   "source": [
    "test_online(ExpandingStd, expanding_std, y)"
   ]
  },
  {
   "cell_type": "code",
   "execution_count": null,
   "metadata": {},
   "outputs": [],
   "source": [
    "#export\n",
    "class RollingMean:\n",
    "    \n",
    "    def __init__(self, window_size, min_samples=None):\n",
    "        self.window_size = window_size\n",
    "        self.min_samples = min_samples\n",
    "    \n",
    "    def fit_transform(self, x: np.ndarray) -> np.ndarray:\n",
    "        rm = rolling_mean(x, self.window_size, self.min_samples)\n",
    "        self.x = x[-self.window_size:].tolist()\n",
    "        return rm\n",
    "    \n",
    "    def update(self, x: float) -> float:\n",
    "        self.x = self.x[1:] + [x]\n",
    "        return sum(self.x) / self.window_size"
   ]
  },
  {
   "cell_type": "code",
   "execution_count": null,
   "metadata": {},
   "outputs": [],
   "source": [
    "test_online(RollingMean, rolling_mean, y, window_size=3, min_samples=1)"
   ]
  },
  {
   "cell_type": "code",
   "execution_count": null,
   "metadata": {},
   "outputs": [],
   "source": [
    "#export\n",
    "class RollingStd:\n",
    "    \n",
    "    def __init__(self, window_size, min_samples):\n",
    "        self.window_size = window_size\n",
    "        self.min_samples = min_samples\n",
    "        \n",
    "    def fit_transform(self, x):\n",
    "        self.x = x[-self.window_size:].tolist()\n",
    "        self.n = x.size\n",
    "        self.cumsum = sum(self.x)\n",
    "        rs, self.accum_xsq, self.accum_x = _rolling_std(x, self.window_size, self.min_samples)\n",
    "        return rs\n",
    "    \n",
    "    def update(self, x):\n",
    "        self.accum_xsq += x**2 - self.x[0]**2\n",
    "        self.accum_x += x - self.x[0]\n",
    "        self.x = self.x[1:] + [x]\n",
    "        return sqrt((self.accum_xsq - self.accum_x**2 / self.window_size) / (self.window_size-1))"
   ]
  },
  {
   "cell_type": "code",
   "execution_count": null,
   "metadata": {},
   "outputs": [],
   "source": [
    "test_online(RollingStd, rolling_std, y, window_size=4, min_samples=2)"
   ]
  },
  {
   "cell_type": "code",
   "execution_count": null,
   "metadata": {},
   "outputs": [],
   "source": [
    "#export\n",
    "class RollingMax:\n",
    "    \n",
    "    def __init__(self, window_size, min_samples):\n",
    "        self.window_size = window_size\n",
    "        self.min_samples = min_samples\n",
    "        \n",
    "    def fit_transform(self, x):\n",
    "        rm = rolling_max(x, self.window_size, self.min_samples)\n",
    "        self.x = x[-self.window_size:].tolist()\n",
    "        return rm\n",
    "    \n",
    "    def update(self, x):\n",
    "        self.x = self.x[1:] + [x]\n",
    "        return max(self.x)"
   ]
  },
  {
   "cell_type": "code",
   "execution_count": null,
   "metadata": {},
   "outputs": [],
   "source": [
    "test_online(RollingMax, rolling_max, y, window_size=4, min_samples=1)"
   ]
  },
  {
   "cell_type": "code",
   "execution_count": null,
   "metadata": {},
   "outputs": [],
   "source": [
    "#export\n",
    "class RollingMin:\n",
    "    \n",
    "    def __init__(self, window_size, min_samples):\n",
    "        self.window_size = window_size\n",
    "        self.min_samples = min_samples\n",
    "        \n",
    "    def fit_transform(self, x):\n",
    "        rm = rolling_min(x, self.window_size, self.min_samples)\n",
    "        self.x = x[-self.window_size:].tolist()\n",
    "        return rm\n",
    "    \n",
    "    def update(self, x):\n",
    "        self.x = self.x[1:] + [x]\n",
    "        return min(self.x)"
   ]
  },
  {
   "cell_type": "code",
   "execution_count": null,
   "metadata": {},
   "outputs": [],
   "source": [
    "test_online(RollingMin, rolling_min, y, window_size=4, min_samples=1)"
   ]
  },
  {
   "cell_type": "code",
   "execution_count": null,
   "metadata": {},
   "outputs": [],
   "source": [
    "#export\n",
    "class EWMMean:\n",
    "    \n",
    "    def __init__(self, alpha):\n",
    "        self.alpha = alpha\n",
    "        \n",
    "    def fit_transform(self, x):\n",
    "        mn = ewm_mean(x, self.alpha)\n",
    "        self.smoothed = mn[-1]\n",
    "        return mn\n",
    "    \n",
    "    def update(self, x):\n",
    "        self.smoothed = self.alpha * x + (1 - self.alpha) * self.smoothed\n",
    "        return self.smoothed"
   ]
  },
  {
   "cell_type": "code",
   "execution_count": null,
   "metadata": {},
   "outputs": [],
   "source": [
    "test_online(EWMMean, ewm_mean, y, alpha=0.3)"
   ]
  }
 ],
 "metadata": {
  "kernelspec": {
   "display_name": "Python 3",
   "language": "python",
   "name": "python3"
  }
 },
 "nbformat": 4,
 "nbformat_minor": 4
}
